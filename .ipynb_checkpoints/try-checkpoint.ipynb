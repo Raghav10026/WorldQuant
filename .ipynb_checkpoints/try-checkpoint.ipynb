{
 "cells": [
  {
   "cell_type": "code",
   "execution_count": 1,
   "metadata": {
    "collapsed": true
   },
   "outputs": [],
   "source": [
    "import time\n",
    "from selenium import webdriver\n",
    "from selenium.webdriver.common.keys import Keys\n",
    "from selenium.webdriver.common.action_chains import ActionChains\n",
    "import numpy as np\n",
    "import pandas as pd"
   ]
  },
  {
   "cell_type": "code",
   "execution_count": 2,
   "metadata": {
    "collapsed": true
   },
   "outputs": [],
   "source": [
    "login = 'mankevichpavel@gmail.com'\n",
    "password = 'googlehf,jnf'\n",
    "home_page = 'https://websim.worldquantchallenge.com/en/cms/wqc/websim/'\n",
    "simulate = 'https://websim.worldquantchallenge.com/simulate\\n'\n",
    "text = '(vwap / close - vwap + close) * 1'\n",
    "shift_dict = {'+':'+=', '(':'+9', ')':'+0', '*':'+8'}\n",
    "alpha_stats = ['alpha', 'year', 'long_count', 'short_count', 'pnl', 'sharpe', 'fitness', \n",
    "               'returns', 'draw_down', 'turn_over', 'margin']\n"
   ]
  },
  {
   "cell_type": "code",
   "execution_count": 3,
   "metadata": {},
   "outputs": [
    {
     "data": {
      "text/plain": [
       "<selenium.webdriver.remote.webelement.WebElement at 0x8d39da0>"
      ]
     },
     "execution_count": 3,
     "metadata": {},
     "output_type": "execute_result"
    }
   ],
   "source": [
    "driver = webdriver.Chrome(executable_path='C:\\webdrivers\\chromedriver.exe')  \n",
    "driver.set_window_size(1366, 768)\n",
    "driver.implicitly_wait(20)\n",
    "\n",
    "driver.get(home_page)\n",
    "log_pass= driver.find_elements_by_class_name('form-control')\n",
    "log_pass[0].clear(), log_pass[0].send_keys(login)\n",
    "log_pass[1].clear(), log_pass[1].send_keys(password)\n",
    "log_pass[1].send_keys(Keys.RETURN)\n",
    "\n",
    "driver.find_element_by_class_name('caret')\n"
   ]
  },
  {
   "cell_type": "code",
   "execution_count": 4,
   "metadata": {},
   "outputs": [],
   "source": [
    "login_time = int(time.time())\n",
    "driver.get(simulate)"
   ]
  },
  {
   "cell_type": "code",
   "execution_count": 11,
   "metadata": {},
   "outputs": [],
   "source": [
    "logout = driver.find_element_by_class_name('dropdown-menu')"
   ]
  },
  {
   "cell_type": "code",
   "execution_count": 19,
   "metadata": {},
   "outputs": [],
   "source": [
    "log = logout.find_elements_by_tag_name('li')[3]"
   ]
  },
  {
   "cell_type": "code",
   "execution_count": 20,
   "metadata": {},
   "outputs": [
    {
     "data": {
      "text/plain": [
       "u''"
      ]
     },
     "execution_count": 20,
     "metadata": {},
     "output_type": "execute_result"
    }
   ],
   "source": [
    "log.text"
   ]
  },
  {
   "cell_type": "code",
   "execution_count": null,
   "metadata": {
    "collapsed": true
   },
   "outputs": [],
   "source": []
  }
 ],
 "metadata": {
  "kernelspec": {
   "display_name": "Python 2",
   "language": "python",
   "name": "python2"
  },
  "language_info": {
   "codemirror_mode": {
    "name": "ipython",
    "version": 2
   },
   "file_extension": ".py",
   "mimetype": "text/x-python",
   "name": "python",
   "nbconvert_exporter": "python",
   "pygments_lexer": "ipython2",
   "version": "2.7.13"
  }
 },
 "nbformat": 4,
 "nbformat_minor": 2
}
