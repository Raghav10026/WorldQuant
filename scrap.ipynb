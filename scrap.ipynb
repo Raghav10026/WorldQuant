{
 "cells": [
  {
   "cell_type": "code",
   "execution_count": 31,
   "metadata": {
    "collapsed": true
   },
   "outputs": [],
   "source": [
    "import time\n",
    "from selenium import webdriver\n",
    "from selenium.webdriver.common.keys import Keys\n",
    "from selenium.webdriver.common.action_chains import ActionChains\n",
    "from selenium.common.exceptions import NoSuchElementException\n",
    "import numpy as np\n",
    "import pandas as pd"
   ]
  },
  {
   "cell_type": "code",
   "execution_count": 32,
   "metadata": {
    "collapsed": true
   },
   "outputs": [],
   "source": [
    "login = 'mankevichpavel@gmail.com'\n",
    "password = 'googlehf,jnf'\n",
    "home_page = 'https://websim.worldquantchallenge.com/en/cms/wqc/websim/'\n",
    "simulate = 'https://websim.worldquantchallenge.com/simulate\\n'\n",
    "logout = 'https://websim.worldquantchallenge.com/simulate/logout'\n",
    "text = '(vwap / close - vwap + close) * 1'\n",
    "alpha_stats = ['alpha', 'year', 'long_count', 'short_count', 'pnl', 'sharpe', 'fitness', \n",
    "               'returns', 'draw_down', 'turn_over', 'margin']"
   ]
  },
  {
   "cell_type": "code",
   "execution_count": 33,
   "metadata": {
    "collapsed": true
   },
   "outputs": [],
   "source": [
    "def driver_relog(driver):\n",
    "    driver.get('https://websim.worldquantchallenge.com/logout')\n",
    "    driver.get(home_page)\n",
    "    log_pass= driver.find_elements_by_class_name('form-control')\n",
    "    log_pass[0].clear(), log_pass[0].send_keys(login)\n",
    "    log_pass[1].clear(), log_pass[1].send_keys(password)\n",
    "    log_pass[1].send_keys(Keys.RETURN)\n",
    "\n",
    "def stats_error(driver):\n",
    "    time.sleep(60)\n",
    "    try:\n",
    "        stats = driver.find_element_by_id('test-statsBtn') # 2 min wait\n",
    "        stats.click()\n",
    "    except NoSuchElementException: \n",
    "        driver_relog(driver)\n",
    "        return False\n",
    "    else:\n",
    "        return True\n",
    "        \n",
    "def line_error(driver):\n",
    "    driver.get('https://websim.worldquantchallenge.com/simulate')\n",
    "    try:\n",
    "        driver.find_element_by_class_name('CodeMirror-line').click()\n",
    "    except NoSuchElementException:\n",
    "        driver_relog(driver)\n",
    "        return False\n",
    "    else:\n",
    "        return True\n",
    "\n",
    "def download_stats(driver, res_df, i):\n",
    "    table = driver.find_elements_by_class_name('standard-row')\n",
    "    for row_id, row in enumerate(table):\n",
    "        data = row.find_elements_by_tag_name('td')\n",
    "        res_df.alpha[i * 7 + row_id] = alpha\n",
    "        res_df.year[i * 7 + row_id] = data[1].text\n",
    "        res_df.long_count[i * 7 + row_id] = data[3].text\n",
    "        res_df.short_count[i * 7 + row_id] = data[4].text\n",
    "        res_df.pnl[i * 7 + row_id] = data[5].text\n",
    "        res_df.sharpe[i * 7 + row_id] = data[6].text\n",
    "        res_df.fitness[i * 7 + row_id] = data[7].text\n",
    "        res_df.returns[i * 7 + row_id] = data[8].text\n",
    "        res_df.draw_down[i * 7 + row_id] = data[9].text\n",
    "        res_df.turn_over[i * 7 + row_id] = data[10].text\n",
    "        res_df.margin[i * 7 + row_id] = data[11].text"
   ]
  },
  {
   "cell_type": "code",
   "execution_count": 34,
   "metadata": {
    "scrolled": true
   },
   "outputs": [
    {
     "data": {
      "text/plain": [
       "<selenium.webdriver.remote.webelement.WebElement at 0x5de70b8>"
      ]
     },
     "execution_count": 34,
     "metadata": {},
     "output_type": "execute_result"
    }
   ],
   "source": [
    "driver = webdriver.Chrome(executable_path='C:\\webdrivers\\chromedriver.exe')  \n",
    "driver.set_window_size(1366, 768)\n",
    "driver.implicitly_wait(60)\n",
    "\n",
    "driver.get(home_page)\n",
    "log_pass= driver.find_elements_by_class_name('form-control')\n",
    "log_pass[0].clear(), log_pass[0].send_keys(login)\n",
    "log_pass[1].clear(), log_pass[1].send_keys(password)\n",
    "log_pass[1].send_keys(Keys.RETURN)\n",
    "\n",
    "driver.find_element_by_class_name('caret')"
   ]
  },
  {
   "cell_type": "code",
   "execution_count": 35,
   "metadata": {
    "collapsed": true
   },
   "outputs": [],
   "source": [
    "simulate_df = pd.read_csv('alphas_for_simulate.csv')\n",
    "res_df = pd.DataFrame(index=range(simulate_df.shape[0] * 7), columns=alpha_stats)\n",
    "save_df = pd.read_csv('simulate_result_rename.csv')\n",
    "\n",
    "i_start = save_start = save_df.dropna(how='all').shape[0] / 7"
   ]
  },
  {
   "cell_type": "code",
   "execution_count": 48,
   "metadata": {
    "collapsed": true
   },
   "outputs": [],
   "source": [
    "login_time = time.time()\n",
    "line_found = progressbar_found = stats_found = False\n",
    "\n",
    "while(1):\n",
    "    try:\n",
    "        for i in range(simulate_df.shape[0])[i_start:]:\n",
    "            alpha = simulate_df.iloc[i][0]\n",
    "\n",
    "            if line_found == False:\n",
    "                driver.get('https://websim.worldquantchallenge.com/simulate')\n",
    "                driver.find_element_by_class_name('CodeMirror-line').click()\n",
    "\n",
    "            action = ActionChains(driver)\n",
    "            action.send_keys(alpha)\n",
    "            action.perform()\n",
    "\n",
    "            simulate = driver.find_elements_by_class_name('col-xs-4')\n",
    "            simulate[2].click()\n",
    "\n",
    "            if progressbar_found == False:\n",
    "                driver.find_element_by_class_name('progressbar-front-text')\n",
    "\n",
    "            if stats_found == False:\n",
    "                stats = driver.find_element_by_id('test-statsBtn')\n",
    "                stats.click()\n",
    "\n",
    "            download_stats(driver, res_df, i)\n",
    "            line_found = progressbar_found = stats_found = False\n",
    "            \n",
    "            if i % 30 == 0:\n",
    "                save_df.iloc[save_start * 7:(i + 1) * 7] = res_df.iloc[save_start * 7:(i + 1) * 7]\n",
    "                save_start = i + 1\n",
    "                save_df.to_csv('simulate_result_rename.csv', index=False)\n",
    "\n",
    "            if int(time.time()) - login_time > 10800:\n",
    "                driver_relog(driver)\n",
    "                login_time = int(time.time())\n",
    "            \n",
    "    except NoSuchElementException as error:\n",
    "        if 'CodeMirror-line' in error.msg:\n",
    "            line_found = line_error(driver)\n",
    "        \n",
    "        if 'progressbar-front-text' in error.msg:\n",
    "            print error.msg\n",
    "    \n",
    "        if 'test-statsBtn' in error.msg:\n",
    "            stats = stats_error(driver)\n",
    "            line_found = progressbar_found = stats\n",
    "        \n",
    "        i_start = i \n",
    "    \n",
    "    break\n",
    "#res_df.to_csv('simulate_result_rename.csv', index=False)\n"
   ]
  },
  {
   "cell_type": "code",
   "execution_count": 45,
   "metadata": {
    "collapsed": true
   },
   "outputs": [],
   "source": [
    "i"
   ]
  },
  {
   "cell_type": "code",
   "execution_count": null,
   "metadata": {
    "collapsed": true
   },
   "outputs": [],
   "source": []
  },
  {
   "cell_type": "code",
   "execution_count": null,
   "metadata": {
    "collapsed": true
   },
   "outputs": [],
   "source": []
  },
  {
   "cell_type": "code",
   "execution_count": 19,
   "metadata": {},
   "outputs": [
    {
     "name": "stdout",
     "output_type": "stream",
     "text": [
      "no such element: Unable to locate element: {\"method\":\"id\",\"selector\":\"test-statsBtn\"}\n",
      "  (Session info: chrome=64.0.3282.167)\n",
      "  (Driver info: chromedriver=2.33.506120 (e3e53437346286c0bc2d2dc9aa4915ba81d9023f),platform=Windows NT 10.0.14393 x86_64)\n",
      "True\n"
     ]
    }
   ],
   "source": [
    "driver.implicitly_wait(2)\n",
    "try:\n",
    "    stats = driver.find_element_by_id('test-statsBtn')\n",
    "    stats.click()\n",
    "    \n",
    "except NoSuchElementException as error:\n",
    "    if 'CodeMirror-line' in error.msg:\n",
    "        line_found = line_error(driver)\n",
    "        \n",
    "    if 'progressbar-front-text' in error.msg:\n",
    "        print error.msg\n",
    "    \n",
    "    if 'test-statsBtn' in error.msg:\n",
    "        stats = stats_error(driver)\n",
    "        line_found = progressbar_found = stats\n",
    "        \n",
    "    i_start = i"
   ]
  },
  {
   "cell_type": "code",
   "execution_count": null,
   "metadata": {
    "collapsed": true
   },
   "outputs": [],
   "source": [
    "i"
   ]
  },
  {
   "cell_type": "code",
   "execution_count": null,
   "metadata": {
    "collapsed": true
   },
   "outputs": [],
   "source": []
  },
  {
   "cell_type": "code",
   "execution_count": null,
   "metadata": {
    "collapsed": true
   },
   "outputs": [],
   "source": [
    "def stats_error(driver):\n",
    "    time.sleep(60)\n",
    "    try:\n",
    "        stats = driver.find_element_by_id('test-statsBtn') # 2 min wait\n",
    "        stats.click()\n",
    "    except NoSuchElementException: \n",
    "        driver_relog(driver)\n",
    "        return False\n",
    "    else:\n",
    "        return True\n",
    "        \n",
    "def line_error(driver):\n",
    "    driver.get('https://websim.worldquantchallenge.com/simulate')\n",
    "    try:\n",
    "        driver.find_element_by_class_name('CodeMirror-line').click()\n",
    "    except NoSuchElementException:\n",
    "        driver_relog(driver)\n",
    "        return False\n",
    "    else:\n",
    "        return True"
   ]
  },
  {
   "cell_type": "code",
   "execution_count": 42,
   "metadata": {
    "collapsed": true
   },
   "outputs": [],
   "source": []
  },
  {
   "cell_type": "code",
   "execution_count": 43,
   "metadata": {},
   "outputs": [
    {
     "name": "stdout",
     "output_type": "stream",
     "text": [
      "['asdr', 'as\\\\sd'] 1\n"
     ]
    }
   ],
   "source": [
    "print l, driver"
   ]
  },
  {
   "cell_type": "code",
   "execution_count": null,
   "metadata": {
    "collapsed": true
   },
   "outputs": [],
   "source": []
  }
 ],
 "metadata": {
  "kernelspec": {
   "display_name": "Python 2",
   "language": "python",
   "name": "python2"
  },
  "language_info": {
   "codemirror_mode": {
    "name": "ipython",
    "version": 2
   },
   "file_extension": ".py",
   "mimetype": "text/x-python",
   "name": "python",
   "nbconvert_exporter": "python",
   "pygments_lexer": "ipython2",
   "version": "2.7.13"
  }
 },
 "nbformat": 4,
 "nbformat_minor": 2
}
