{
 "cells": [
  {
   "cell_type": "code",
   "execution_count": 1,
   "metadata": {
    "collapsed": true
   },
   "outputs": [],
   "source": [
    "import pandas as pd\n",
    "import numpy as np"
   ]
  },
  {
   "cell_type": "code",
   "execution_count": 7,
   "metadata": {},
   "outputs": [],
   "source": [
    "operations = [' + ', ' - ', ' * ', ' / ' ]\n",
    "\n",
    "values = ['vwap', 'close', 'open', 'high', 'low', 'volume',\n",
    "          'returns', 'adv20', 'sharesout', 'cap', 'split', 'dividend']\n",
    "\n",
    "fund_values = ['assets', 'assets_curr', 'bookvalue_ps', 'capex', 'cash', 'cashflow', 'cashflow_dividends', \n",
    "               'cashflow_fin', 'cashflow_invst', 'cashflow_op', 'cogs', 'current_ratio', 'debt',\n",
    "               'debt_lt', 'debt_st', 'depre_amort', 'EBIT', 'EBITDA', 'employee', \n",
    "               'enterprise_value', 'eps', 'equity', 'goodwill', 'income', 'income_beforeextra', 'income_tax', \n",
    "               'interest_expense', 'inventory', 'inventory_turnover', 'invested_capital', \n",
    "               'liabilities', 'liabilities_curr', 'operating_expense', \n",
    "               'operating_income', 'ppent', 'pretax_income', \n",
    "               'rd_expense', 'receivable', 'retained_earnings', 'return_assets', 'return_equity', \n",
    "               'revenue', 'sales', 'sales_growth', 'sales_ps', 'SGA_expense', 'working_capital']\n",
    "\n",
    "alphas_df = pd.DataFrame(columns=['alpha'])"
   ]
  },
  {
   "cell_type": "code",
   "execution_count": 3,
   "metadata": {
    "collapsed": true
   },
   "outputs": [],
   "source": [
    "#for i, obj_1 in enumerate(values):\n",
    "#    for obj_2 in values[i + 1:]:\n",
    "#        for oper in operations:\n",
    "#            if oper == '/':\n",
    "#                alphas_df = pd.concat([alphas_df, pd.DataFrame([obj_2 + oper + obj_1], columns=['alpha'])], ignore_index=True) \n",
    "#            alphas_df = pd.concat([alphas_df, pd.DataFrame([obj_1 + oper + obj_2], columns=['alpha'])], ignore_index=True)\n",
    "#alphas_df.to_csv('alphas_for_simulate.csv', index=False)          "
   ]
  },
  {
   "cell_type": "code",
   "execution_count": 8,
   "metadata": {},
   "outputs": [
    {
     "name": "stdout",
     "output_type": "stream",
     "text": [
      "Wall time: 0 ns\n"
     ]
    }
   ],
   "source": [
    "%time\n",
    "for i, obj_1 in enumerate(fund_values):\n",
    "    for obj_2 in fund_values[i + 1:]:\n",
    "        alphas_df = pd.concat([alphas_df, pd.DataFrame([obj_2 + ' / ' + obj_1], columns=['alpha'])], ignore_index=True) \n",
    "        alphas_df = pd.concat([alphas_df, pd.DataFrame([obj_1 + ' / ' + obj_2], columns=['alpha'])], ignore_index=True)    \n",
    "alphas_df.to_csv('alphas_for_simulate.csv', index=False)  "
   ]
  },
  {
   "cell_type": "code",
   "execution_count": 9,
   "metadata": {},
   "outputs": [
    {
     "data": {
      "text/plain": [
       "(2162, 1)"
      ]
     },
     "execution_count": 9,
     "metadata": {},
     "output_type": "execute_result"
    }
   ],
   "source": [
    "alphas_df.shape"
   ]
  },
  {
   "cell_type": "code",
   "execution_count": 10,
   "metadata": {},
   "outputs": [
    {
     "data": {
      "text/plain": [
       "47"
      ]
     },
     "execution_count": 10,
     "metadata": {},
     "output_type": "execute_result"
    }
   ],
   "source": [
    "len(fund_values)"
   ]
  },
  {
   "cell_type": "code",
   "execution_count": null,
   "metadata": {
    "collapsed": true
   },
   "outputs": [],
   "source": []
  }
 ],
 "metadata": {
  "kernelspec": {
   "display_name": "Python 2",
   "language": "python",
   "name": "python2"
  },
  "language_info": {
   "codemirror_mode": {
    "name": "ipython",
    "version": 2
   },
   "file_extension": ".py",
   "mimetype": "text/x-python",
   "name": "python",
   "nbconvert_exporter": "python",
   "pygments_lexer": "ipython2",
   "version": "2.7.13"
  }
 },
 "nbformat": 4,
 "nbformat_minor": 2
}
