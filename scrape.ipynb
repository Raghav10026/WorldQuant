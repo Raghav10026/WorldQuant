{
 "cells": [
  {
   "cell_type": "code",
   "execution_count": 1,
   "metadata": {
    "collapsed": true
   },
   "outputs": [],
   "source": [
    "import win32api, win32con, win32gui\n",
    "import time, win32com.client\n",
    "from selenium import webdriver\n",
    "from selenium.webdriver.common.keys import Keys\n",
    "from selenium.webdriver import ActionChains\n",
    "from pynput.keyboard import Key, Controller "
   ]
  },
  {
   "cell_type": "code",
   "execution_count": 35,
   "metadata": {
    "collapsed": true
   },
   "outputs": [],
   "source": [
    "login = \"mankevichpavel@gmail.com\"\n",
    "password = \"googlehf,jnf\"\n",
    "home_page = \"https://websim.worldquantchallenge.com/en/cms/wqc/websim/\"\n",
    "simulate = 'https://websim.worldquantchallenge.com/simulate'\n",
    "text = '(vwap / close - vwap + close) * 1'\n",
    "shift_dict = {'+':'+=', '(':'+9', ')':'+0', '*':'+8'}\n",
    "\n",
    "def openItNow(hwnd, windowText):\n",
    "    if windowText in win32gui.GetWindowText(hwnd):\n",
    "        win32gui.SetForegroundWindow(hwnd)\n",
    "\n",
    "def send_alpha(hwnd, shell, alpha, del_size):\n",
    "    for i in xrange(del_size):\n",
    "        shell.SendKeys({BS})\n",
    "    for char in alpha:\n",
    "        if char in shift_dict:\n",
    "            shell.SendKeys(shift_dict[char])\n",
    "        else:\n",
    "            shell.SendKeys(char)\n",
    "        time.sleep(0.05)"
   ]
  },
  {
   "cell_type": "code",
   "execution_count": 32,
   "metadata": {
    "scrolled": true
   },
   "outputs": [],
   "source": [
    "driver = webdriver.Chrome(executable_path='C:\\webdrivers\\chromedriver.exe')  \n",
    "driver.get(home_page)\n",
    "log_pass= driver.find_elements_by_class_name('form-control')\n",
    "log_pass[0].clear()\n",
    "log_pass[0].send_keys(login)\n",
    "log_pass[1].clear()\n",
    "log_pass[1].send_keys(password)\n",
    "log_pass[1].send_keys(Keys.RETURN)\n",
    "time.sleep(10)\n",
    "driver.get(simulate)\n",
    "time.sleep(10)\n",
    "alpha = driver.find_element_by_class_name('CodeMirror-line')\n",
    "alpha.click()"
   ]
  },
  {
   "cell_type": "code",
   "execution_count": 36,
   "metadata": {
    "collapsed": true
   },
   "outputs": [],
   "source": [
    "keyboard = Controller()\n",
    "time.sleep(5)\n",
    "\n",
    "for char in text:\n",
    "    keyboard.press(char)\n",
    "    time.sleep(0.1)"
   ]
  },
  {
   "cell_type": "code",
   "execution_count": null,
   "metadata": {
    "collapsed": true
   },
   "outputs": [],
   "source": []
  },
  {
   "cell_type": "code",
   "execution_count": 37,
   "metadata": {
    "collapsed": true
   },
   "outputs": [],
   "source": [
    "driver.close()"
   ]
  },
  {
   "cell_type": "code",
   "execution_count": null,
   "metadata": {
    "collapsed": true
   },
   "outputs": [],
   "source": []
  },
  {
   "cell_type": "code",
   "execution_count": null,
   "metadata": {
    "collapsed": true
   },
   "outputs": [],
   "source": []
  },
  {
   "cell_type": "code",
   "execution_count": null,
   "metadata": {
    "collapsed": true
   },
   "outputs": [],
   "source": []
  },
  {
   "cell_type": "code",
   "execution_count": null,
   "metadata": {
    "collapsed": true
   },
   "outputs": [],
   "source": []
  },
  {
   "cell_type": "code",
   "execution_count": null,
   "metadata": {
    "collapsed": true
   },
   "outputs": [],
   "source": []
  },
  {
   "cell_type": "code",
   "execution_count": 24,
   "metadata": {},
   "outputs": [],
   "source": [
    "#input var 1\n",
    "#after clicking on brawser does not work\n",
    "hwnd = win32gui.FindWindow(None, 'Simulate - Google Chrome')\n",
    "for char in text:\n",
    "    win32gui.SendMessage(hwnd, win32con.WM_CHAR, ord(char), 0)\n",
    "    time.sleep(0.1)\n",
    "    "
   ]
  },
  {
   "cell_type": "code",
   "execution_count": 33,
   "metadata": {},
   "outputs": [],
   "source": [
    "#many bags\n",
    "#can't make active \n",
    "#wrong send input\n",
    "hwnd = win32gui.FindWindow(None, 'Simulate - Google Chrome')\n",
    "win32gui.SetForegroundWindow(hwnd)\n",
    "\n",
    "shell = win32com.client.Dispatch(\"WScript.Shell\")\n",
    "\n",
    "time.sleep(3)\n",
    "send_alpha(hwnd, shell, text, 0)"
   ]
  },
  {
   "cell_type": "code",
   "execution_count": null,
   "metadata": {
    "collapsed": true
   },
   "outputs": [],
   "source": []
  },
  {
   "cell_type": "code",
   "execution_count": null,
   "metadata": {
    "collapsed": true
   },
   "outputs": [],
   "source": []
  }
 ],
 "metadata": {
  "kernelspec": {
   "display_name": "Python 2",
   "language": "python",
   "name": "python2"
  },
  "language_info": {
   "codemirror_mode": {
    "name": "ipython",
    "version": 2
   },
   "file_extension": ".py",
   "mimetype": "text/x-python",
   "name": "python",
   "nbconvert_exporter": "python",
   "pygments_lexer": "ipython2",
   "version": "2.7.13"
  }
 },
 "nbformat": 4,
 "nbformat_minor": 2
}
